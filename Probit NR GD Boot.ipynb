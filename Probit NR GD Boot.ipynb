{
 "cells": [
  {
   "cell_type": "code",
   "execution_count": 1,
   "id": "12a2c474",
   "metadata": {
    "_execution_state": "idle",
    "_uuid": "051d70d956493feee0c6d64651c6a088724dca2a",
    "collapsed": true,
    "execution": {
     "iopub.execute_input": "2022-04-19T00:54:27.134540Z",
     "iopub.status.busy": "2022-04-19T00:54:27.132468Z",
     "iopub.status.idle": "2022-04-19T00:58:10.622294Z",
     "shell.execute_reply": "2022-04-19T00:58:10.620561Z"
    },
    "papermill": {
     "duration": 223.501413,
     "end_time": "2022-04-19T00:58:10.625413",
     "exception": false,
     "start_time": "2022-04-19T00:54:27.124000",
     "status": "completed"
    },
    "tags": []
   },
   "outputs": [
    {
     "name": "stderr",
     "output_type": "stream",
     "text": [
      "Warning message:\n",
      "\"package 'tidyverse' was built under R version 4.0.5\"\n",
      "-- \u001b[1mAttaching packages\u001b[22m ------------------------------------------------------------------------------- tidyverse 1.3.1 --\n",
      "\n",
      "\u001b[32mv\u001b[39m \u001b[34mggplot2\u001b[39m 3.3.5     \u001b[32mv\u001b[39m \u001b[34mpurrr  \u001b[39m 0.3.4\n",
      "\u001b[32mv\u001b[39m \u001b[34mtibble \u001b[39m 3.1.6     \u001b[32mv\u001b[39m \u001b[34mdplyr  \u001b[39m 1.0.7\n",
      "\u001b[32mv\u001b[39m \u001b[34mtidyr  \u001b[39m 1.1.4     \u001b[32mv\u001b[39m \u001b[34mstringr\u001b[39m 1.4.0\n",
      "\u001b[32mv\u001b[39m \u001b[34mreadr  \u001b[39m 2.1.0     \u001b[32mv\u001b[39m \u001b[34mforcats\u001b[39m 0.5.1\n",
      "\n",
      "Warning message:\n",
      "\"package 'ggplot2' was built under R version 4.0.5\"\n",
      "Warning message:\n",
      "\"package 'tidyr' was built under R version 4.0.5\"\n",
      "Warning message:\n",
      "\"package 'purrr' was built under R version 4.0.5\"\n",
      "Warning message:\n",
      "\"package 'dplyr' was built under R version 4.0.5\"\n",
      "Warning message:\n",
      "\"package 'stringr' was built under R version 4.0.5\"\n",
      "Warning message:\n",
      "\"package 'forcats' was built under R version 4.0.5\"\n",
      "-- \u001b[1mConflicts\u001b[22m ---------------------------------------------------------------------------------- tidyverse_conflicts() --\n",
      "\u001b[31mx\u001b[39m \u001b[34mdplyr\u001b[39m::\u001b[32mfilter()\u001b[39m masks \u001b[34mstats\u001b[39m::filter()\n",
      "\u001b[31mx\u001b[39m \u001b[34mdplyr\u001b[39m::\u001b[32mlag()\u001b[39m    masks \u001b[34mstats\u001b[39m::lag()\n",
      "\n",
      "Warning message:\n",
      "\"package 'stargazer' was built under R version 4.0.5\"\n",
      "\n",
      "Please cite as: \n",
      "\n",
      "\n",
      " Hlavac, Marek (2022). stargazer: Well-Formatted Regression and Summary Statistics Tables.\n",
      "\n",
      " R package version 5.2.3. https://CRAN.R-project.org/package=stargazer \n",
      "\n",
      "\n",
      "Warning message:\n",
      "\"package 'AER' was built under R version 4.0.5\"\n",
      "Loading required package: car\n",
      "\n",
      "Warning message:\n",
      "\"package 'car' was built under R version 4.0.5\"\n",
      "Loading required package: carData\n",
      "\n",
      "Warning message:\n",
      "\"package 'carData' was built under R version 4.0.3\"\n",
      "\n",
      "Attaching package: 'car'\n",
      "\n",
      "\n",
      "The following object is masked from 'package:dplyr':\n",
      "\n",
      "    recode\n",
      "\n",
      "\n",
      "The following object is masked from 'package:purrr':\n",
      "\n",
      "    some\n",
      "\n",
      "\n",
      "Loading required package: lmtest\n",
      "\n",
      "Loading required package: zoo\n",
      "\n",
      "Warning message:\n",
      "\"package 'zoo' was built under R version 4.0.5\"\n",
      "\n",
      "Attaching package: 'zoo'\n",
      "\n",
      "\n",
      "The following objects are masked from 'package:base':\n",
      "\n",
      "    as.Date, as.Date.numeric\n",
      "\n",
      "\n",
      "Loading required package: sandwich\n",
      "\n",
      "Warning message:\n",
      "\"package 'sandwich' was built under R version 4.0.5\"\n",
      "Loading required package: survival\n",
      "\n"
     ]
    }
   ],
   "source": [
    "# Librerias ----\n",
    "library(tidyverse) \n",
    "library(wooldridge)\n",
    "library(stargazer) # Resultados regresiones\n",
    "library(AER) # Resultados bootstrap"
   ]
  },
  {
   "cell_type": "markdown",
   "id": "f4f49333",
   "metadata": {
    "papermill": {
     "duration": 0.007173,
     "end_time": "2022-04-19T00:58:10.642781",
     "exception": false,
     "start_time": "2022-04-19T00:58:10.635608",
     "status": "completed"
    },
    "tags": []
   },
   "source": [
    "# Optimizadores"
   ]
  },
  {
   "cell_type": "markdown",
   "id": "3e80a4ab",
   "metadata": {
    "papermill": {
     "duration": 0.005713,
     "end_time": "2022-04-19T00:58:10.654008",
     "exception": false,
     "start_time": "2022-04-19T00:58:10.648295",
     "status": "completed"
    },
    "tags": []
   },
   "source": [
    "## Newton Raphson"
   ]
  },
  {
   "cell_type": "code",
   "execution_count": 2,
   "id": "387f1164",
   "metadata": {
    "execution": {
     "iopub.execute_input": "2022-04-19T00:58:10.716715Z",
     "iopub.status.busy": "2022-04-19T00:58:10.668308Z",
     "iopub.status.idle": "2022-04-19T00:58:10.730013Z",
     "shell.execute_reply": "2022-04-19T00:58:10.728342Z"
    },
    "papermill": {
     "duration": 0.072039,
     "end_time": "2022-04-19T00:58:10.732991",
     "exception": false,
     "start_time": "2022-04-19T00:58:10.660952",
     "status": "completed"
    },
    "tags": []
   },
   "outputs": [],
   "source": [
    "# Funcion para llevar a cabo estimacion probit por Newton Raphson\n",
    "# metodo: función con los objetos del modelo en cuestión\n",
    "# Y: variable dependiente binaria. Matriz de Nx1\n",
    "# X: matriz NxK de variables explicativas\n",
    "# b0: matriz de Kx1 con valores iniciales para los parametros del modelo\n",
    "# max_iter: cantidad maxima de iteraciones a realizar. Si no se converge en esta cantidad de iteraciones el algoritmo se detiene\n",
    "# tol: diferencia entre las actualizaciones de los parametros que se tolera para considerar convergencia. Debe ser un numero pequeño\n",
    "# print_iter: si es TRUE imprime en la consola informacion cada 500 iteraciones. Si es FALSE queda en silencio\n",
    "newton_raphson <- function(metodo, Y, X, b0, tol = 1e-8, max_iter=500, print_iter = TRUE){\n",
    "   \n",
    "   # Valores de beta iniciales y objeto auxiliar para guardar actualizaciones\n",
    "   beta <- b0\n",
    "   beta_new <- 0\n",
    "   \n",
    "   # Valor para diferencia. Cualquier valor mayor a 'tol' para comenzar\n",
    "   beta_diff <- 100\n",
    "   \n",
    "   # Contador de iteraciones\n",
    "   i <- 0\n",
    "   \n",
    "   # NR\n",
    "   while (beta_diff >= tol & i <= max_iter) {\n",
    "      \n",
    "      # Objetos del modelo\n",
    "      objetos <- metodo(Y,X,beta)\n",
    "      J <- objetos$J\n",
    "      H <- objetos$H\n",
    "      loglik <- objetos$loglik\n",
    "      \n",
    "      # Actualizamos\n",
    "      beta_new  <- beta -  (pracma::inv(H) %*% J)\n",
    "      beta_diff <- max(beta_new - beta)\n",
    "      beta <- beta_new\n",
    "      \n",
    "      # Esto imprime resultados intermedios en la consola\n",
    "      if (print_iter){\n",
    "         cat(paste0(\"Iter: \", i, \" , logLik: \", loglik, \" , Beta Diff: \", beta_diff, \"\\n\"))\n",
    "      }\n",
    "      \n",
    "      # Actualiza el contador de iteraciones\n",
    "      i <- i + 1\n",
    "      \n",
    "   }\n",
    "   \n",
    "   # Da aviso de que el algoritmo se ha detenido porque se alcanzo la cantidad maxima de iteraciones\n",
    "   if (i == max_iter){\n",
    "      cat(\"-- Maximum of iterations reached! --\\n\")\n",
    "   }\n",
    "   \n",
    "   output <- list(beta = as.numeric(beta), loglik = loglik, varcov = pracma::inv(-H), xb = objetos$xb)\n",
    "   return(output)\n",
    "}"
   ]
  },
  {
   "cell_type": "markdown",
   "id": "938af3f7",
   "metadata": {
    "papermill": {
     "duration": 0.005303,
     "end_time": "2022-04-19T00:58:10.743698",
     "exception": false,
     "start_time": "2022-04-19T00:58:10.738395",
     "status": "completed"
    },
    "tags": []
   },
   "source": [
    "## Gradient Descent"
   ]
  },
  {
   "cell_type": "code",
   "execution_count": 3,
   "id": "9019d33d",
   "metadata": {
    "execution": {
     "iopub.execute_input": "2022-04-19T00:58:10.757514Z",
     "iopub.status.busy": "2022-04-19T00:58:10.756019Z",
     "iopub.status.idle": "2022-04-19T00:58:10.771159Z",
     "shell.execute_reply": "2022-04-19T00:58:10.769513Z"
    },
    "papermill": {
     "duration": 0.024864,
     "end_time": "2022-04-19T00:58:10.773909",
     "exception": false,
     "start_time": "2022-04-19T00:58:10.749045",
     "status": "completed"
    },
    "tags": []
   },
   "outputs": [],
   "source": [
    "# Funcion para llevar a cabo estimacion probit por Gradient  Descent\n",
    "# metodo: función con los objetos del modelo en cuestión\n",
    "# Y: variable dependiente binaria. Matriz de Nx1\n",
    "# X: matriz NxK de variables explicativas\n",
    "# b0: matriz de Kx1 con valores iniciales para los parametros del modelo\n",
    "# max_iter: cantidad maxima de iteraciones a realizar. Si no se converge en esta cantidad de iteraciones el algoritmo se detiene\n",
    "# tol: diferencia entre las actualizaciones de los parametros que se tolera para considerar convergencia. Debe ser un numero pequeño\n",
    "# lr: learning rate, valor pequeño por el cual se 'castiga' el gradiente\n",
    "# print_iter: si es TRUE imprime en la consola informacion cada 250 iteraciones. Si es FALSE queda en silencio\n",
    "gradient_descent <- function(metodo, Y, X, b0, tol = 1e-9, lr = 0.001, max_iter=2500, print_iter = TRUE){\n",
    "   \n",
    "   # Valores de beta iniciales y objeto auxiliar para guardar actualizaciones\n",
    "   beta <- b0\n",
    "   beta_new <- 0\n",
    "   \n",
    "   # Valor para diferencia. Cualquier valor mayor a 'tol' para comenzar\n",
    "   beta_diff <- 100\n",
    "   \n",
    "   # Contador de iteraciones\n",
    "   i <- 1\n",
    "    \n",
    "   # Para X con constante en ultima columna, escala las variables\n",
    "   ncols <- ncol(X)\n",
    "   X_scaled <- cbind(scale(X[,1:(ncols-1)]), cons=1)\n",
    "   \n",
    "   # GD\n",
    "   while (beta_diff >= tol & i <= max_iter) {\n",
    "      \n",
    "      ## Objetos del modelo\n",
    "      objetos <- metodo(Y,X_scaled,beta)\n",
    "      J <- objetos$J\n",
    "      loglik <- objetos$loglik\n",
    "      \n",
    "      # Actualizamos\n",
    "      beta_new  <- beta +  (lr * J)\n",
    "      beta_diff <- max(beta_new - beta)\n",
    "      beta <- beta_new\n",
    "      \n",
    "      # Esto imprime resultados intermedios en la consola\n",
    "      if (print_iter & i %% 250 == 0){\n",
    "         cat(paste0(\"Iter: \", i, \" , logLik: \", loglik, \" , Beta Diff: \", beta_diff, \"\\n\"))\n",
    "      }\n",
    "      \n",
    "      # Actualiza el contador de iteraciones\n",
    "      i <- i + 1\n",
    "      \n",
    "   }\n",
    "   \n",
    "   # Da aviso de que el algoritmo se ha detenido porque se alcanzo la cantidad maxima de iteraciones\n",
    "   if (i == max_iter){\n",
    "      cat(\"-- Maximum of iterations reached! --\\n\")\n",
    "   }\n",
    "   \n",
    "   # Quita el scale a los betas\n",
    "   desv_estandar_xs <- apply(X[,1:(ncols-1)], 2, sd)\n",
    "   promedio_xs      <- apply(X[,1:(ncols-1)], 2, mean)\n",
    "   \n",
    "   nombres   <- rownames(beta)\n",
    "   betas_x   <- beta[1:(ncols-1)] / desv_estandar_xs %>% as.matrix()\n",
    "   beta_cons <- beta[ncols] - sum(promedio_xs * betas_x) %>% as.matrix()\n",
    "   beta <- rbind(betas_x, beta_cons)\n",
    "   rownames(beta) <- nombres \n",
    "    \n",
    "   output <- list(beta = beta, loglik = loglik, xb = objetos$xb)\n",
    "   return(output)\n",
    "   \n",
    "}"
   ]
  },
  {
   "cell_type": "markdown",
   "id": "a5f4383c",
   "metadata": {
    "papermill": {
     "duration": 0.00528,
     "end_time": "2022-04-19T00:58:10.784542",
     "exception": false,
     "start_time": "2022-04-19T00:58:10.779262",
     "status": "completed"
    },
    "tags": []
   },
   "source": [
    "## Bootstrap: SE de coeficientes\n",
    "Si no hemos podido obtener la matriz Hessiana, y así la matriz de VarCov, podemos obtener errores estándar mediante Bootstrap (podría combinarse con el uso de Gradient Descent)"
   ]
  },
  {
   "cell_type": "code",
   "execution_count": 4,
   "id": "9676e2d7",
   "metadata": {
    "execution": {
     "iopub.execute_input": "2022-04-19T00:58:10.798300Z",
     "iopub.status.busy": "2022-04-19T00:58:10.796764Z",
     "iopub.status.idle": "2022-04-19T00:58:10.811684Z",
     "shell.execute_reply": "2022-04-19T00:58:10.809911Z"
    },
    "papermill": {
     "duration": 0.0241,
     "end_time": "2022-04-19T00:58:10.813976",
     "exception": false,
     "start_time": "2022-04-19T00:58:10.789876",
     "status": "completed"
    },
    "tags": []
   },
   "outputs": [],
   "source": [
    "# Función para obtener coeficientes estimados y errores estándar mediante Bootstrap\n",
    "# metodo: función con los objetos del modelo en cuestión \n",
    "# Y: variable dependiente binaria. Matriz de Nx1\n",
    "# X: matriz NxK de variables explicativas\n",
    "# b0: matriz de Kx1 con valores iniciales para los parametros del modelo\n",
    "# max_iter: cantidad maxima de iteraciones a realizar. Si no se converge en esta cantidad de iteraciones el algoritmo se detiene\n",
    "# tol: diferencia entre las actualizaciones de los parametros que se tolera para considerar convergencia. Debe ser un numero pequeño\n",
    "# lr: learning rate, valor pequeño por el cual se 'castiga' el gradiente\n",
    "# print_iter: si es TRUE imprime en la consola informacion cada 250 iteraciones. Si es FALSE queda en silencio\n",
    "bootstrap_coefs_se <- function(metodo, Y, X, b0, seed=04051996, reps = 10, parallel = \"snow\", \n",
    "                               max_iter = 2500, lr = 0.001, tol = 1e-9, print_iter = FALSE){\n",
    "   \n",
    "   # Función para iterar en 'boot'\n",
    "   boot_func <- function(datos, indices){\n",
    "      \n",
    "      data <- datos[indices, ]\n",
    "      ncols <- ncol(data)\n",
    "      y <- data[1] %>% as.matrix()\n",
    "      x <- data[2:ncols] %>% as.matrix()\n",
    "      \n",
    "      resultado <- gradient_descent(metodo, y, x, b0, max_iter = max_iter, lr = lr, tol = tol, print_iter = print_iter)\n",
    "      return(resultado$beta)\n",
    "      \n",
    "   }\n",
    "   \n",
    "   # Ajustamos datos para función\n",
    "   datos <- cbind(Y,X) %>% as.data.frame()\n",
    "   \n",
    "   # Bootstrap\n",
    "   set.seed(seed)\n",
    "   result_boot <- boot::boot(data = datos, statistic = boot_func, R = reps, parallel = parallel)\n",
    "   \n",
    "   # En tabla\n",
    "   variables <- colnames(result_boot$data)[-1]\n",
    "   tabla <- summary(result_boot) %>% as_tibble() %>% \n",
    "      mutate(Variable = variables) %>% select(Variable, original, bootSE) %>% as.data.frame()\n",
    "   \n",
    "   return(tabla)\n",
    "      \n",
    "}"
   ]
  },
  {
   "cell_type": "markdown",
   "id": "95107331",
   "metadata": {
    "papermill": {
     "duration": 0.00531,
     "end_time": "2022-04-19T00:58:10.824741",
     "exception": false,
     "start_time": "2022-04-19T00:58:10.819431",
     "status": "completed"
    },
    "tags": []
   },
   "source": [
    "# Probit\n",
    "\n",
    "\\begin{align*}\n",
    "    \\text{(Función de log-verosimilitud)  } \\log \\mathcal{L}_N(\\beta ; y|x) &= \\sum_{i=1}^{N} y_i \\log\\Phi(\\beta_0 + \\beta_1 x_i) + (1-y_i) \\log(1-\\Phi(\\beta_0 + \\beta_1 x_i)) \\\\\n",
    "    &= \\text{sum}\\left( \\mathbf{Y \\circ \\log\\Phi + (1-Y) \\circ \\log[1-\\Phi] } \\right) \\\\\n",
    "    \\text{(Gradiente)  } \\mathbf{J(\\hat{\\beta})} &= \\mathbf{X' [Y \\circ (\\hat{\\phi} \\oslash \\hat{\\Phi})]} - \\mathbf{X' [ (1 - Y) \\circ (\\hat{\\phi} \\oslash (1-\\hat{\\Phi}))]} \\\\\n",
    "    \\text{(Matriz Hessiana)  } \\mathbf{\\hat{H}} &= \\mathbf{X' \\text{Diag}(- \\hat{\\phi} \\circ [Y \\circ \\hat{A} + (1 - Y) \\circ \\hat{B}]) X}\n",
    "\\end{align*}\n",
    "\n",
    "donde \n",
    "\\begin{align*}\n",
    "    \\mathbf{A} &= [\\phi + \\mathbf{X \\beta} \\circ \\Phi] \\oslash [\\Phi \\circ \\Phi] \\\\\n",
    "            \\mathbf{B} &= [\\phi - \\mathbf{X \\beta} \\circ (1-\\Phi)] \\oslash [(1-\\Phi) \\circ (1-\\Phi)]\n",
    "\\end{align*}\n",
    "\n",
    "Con matrices (para el caso de regresión simple $k=2$, generalizable a todo $k$)\n",
    "\\begin{align*}\n",
    "            \\mathbf{X} = \\begin{bmatrix}\n",
    "                1 & x_1 \\\\\n",
    "                \\vdots & \\vdots\\\\\n",
    "                1 & x_N\n",
    "            \\end{bmatrix} , \n",
    "            \\mathbf{Y} = \\begin{bmatrix}\n",
    "                y_1 \\\\ \\vdots \\\\ y_N\n",
    "            \\end{bmatrix} , \n",
    "            \\phi = \\begin{bmatrix}\n",
    "                \\phi(\\beta_0 + \\beta_1 x_1) \\\\ \\vdots \\\\ \\phi(\\beta_0 + \\beta_1 x_N) \\end{bmatrix} ,\n",
    "            \\Phi = \\begin{bmatrix}\n",
    "                \\Phi(\\beta_0 + \\beta_1 x_1) \\\\ \\vdots \\\\ \\Phi(\\beta_0 + \\beta_1 x_N) \n",
    "            \\end{bmatrix}\n",
    "        \\end{align*}\n",
    "**Escribamos estas ecuaciones en R para resolver el problema de optimización**"
   ]
  },
  {
   "cell_type": "code",
   "execution_count": 5,
   "id": "88c6be3f",
   "metadata": {
    "execution": {
     "iopub.execute_input": "2022-04-19T00:58:10.838500Z",
     "iopub.status.busy": "2022-04-19T00:58:10.837018Z",
     "iopub.status.idle": "2022-04-19T00:58:10.851866Z",
     "shell.execute_reply": "2022-04-19T00:58:10.850078Z"
    },
    "papermill": {
     "duration": 0.024452,
     "end_time": "2022-04-19T00:58:10.854603",
     "exception": false,
     "start_time": "2022-04-19T00:58:10.830151",
     "status": "completed"
    },
    "tags": []
   },
   "outputs": [],
   "source": [
    "# Método para modelo Probit\n",
    "probitFuncs <- function(Y, X, beta){\n",
    "   \n",
    "   # Matriz Nx1 de valores predichos, dado beta\n",
    "   xb  <- X %*% beta # Esto sería en el ejemplo simple b0 + b1*x1\n",
    "   Phi <- pnorm(xb) # pnorm es la función de probabilidad acumulada normal estándar\n",
    "   phi <- dnorm(xb) # dnorm es la función de densidad normal estándar\n",
    "   \n",
    "   # Funcion de verosimilitud\n",
    "   loglik <- sum(Y * log(Phi) + (1-Y) * log(1-Phi))\n",
    "   \n",
    "   # Gradiente, dado beta\n",
    "   gradiente <- t(X) %*% (Y * (phi / Phi)) - t(X) %*% ((1 - Y) * (phi / (1-Phi)))\n",
    "   \n",
    "   # Hessiano, dado beta\n",
    "   A    <- (phi + xb * Phi) / Phi^2\n",
    "   B    <- (phi - xb * (1-Phi)) / (1-Phi)^2\n",
    "   S    <- as.numeric(- phi * ( Y*A + (1-Y)*B ))\n",
    "   hess <- t(X) %*% diag(S) %*% X\n",
    "   \n",
    "   output <- list(loglik = loglik, J = gradiente, H = hess, xb = xb)\n",
    "   return(output)\n",
    "}   "
   ]
  },
  {
   "cell_type": "markdown",
   "id": "2019f20d",
   "metadata": {
    "papermill": {
     "duration": 0.005375,
     "end_time": "2022-04-19T00:58:10.865376",
     "exception": false,
     "start_time": "2022-04-19T00:58:10.860001",
     "status": "completed"
    },
    "tags": []
   },
   "source": [
    "# Probando nuestros algoritmos"
   ]
  },
  {
   "cell_type": "markdown",
   "id": "3ba3a453",
   "metadata": {
    "papermill": {
     "duration": 0.00522,
     "end_time": "2022-04-19T00:58:10.876001",
     "exception": false,
     "start_time": "2022-04-19T00:58:10.870781",
     "status": "completed"
    },
    "tags": []
   },
   "source": [
    "## Usando las librerías de R\n",
    "Para comparar, usemos la función que trae R para resolver Probit\n"
   ]
  },
  {
   "cell_type": "code",
   "execution_count": 6,
   "id": "c20028dd",
   "metadata": {
    "execution": {
     "iopub.execute_input": "2022-04-19T00:58:10.889891Z",
     "iopub.status.busy": "2022-04-19T00:58:10.888198Z",
     "iopub.status.idle": "2022-04-19T00:58:10.941424Z",
     "shell.execute_reply": "2022-04-19T00:58:10.939286Z"
    },
    "papermill": {
     "duration": 0.0627,
     "end_time": "2022-04-19T00:58:10.943986",
     "exception": false,
     "start_time": "2022-04-19T00:58:10.881286",
     "status": "completed"
    },
    "tags": []
   },
   "outputs": [
    {
     "data": {
      "text/plain": [
       "\n",
       "Call:\n",
       "glm(formula = inlf ~ nwifeinc + educ + exper + I(exper^2) + age + \n",
       "    kidslt6 + kidsge6, family = binomial(link = \"probit\"), data = data, \n",
       "    control = list(epsilon = 1e-12))\n",
       "\n",
       "Deviance Residuals: \n",
       "    Min       1Q   Median       3Q      Max  \n",
       "-2.2156  -0.9151   0.4315   0.8653   2.4553  \n",
       "\n",
       "Coefficients:\n",
       "              Estimate Std. Error z value Pr(>|z|)    \n",
       "(Intercept)  0.2700768  0.5080923   0.532  0.59504    \n",
       "nwifeinc    -0.0120237  0.0049392  -2.434  0.01492 *  \n",
       "educ         0.1309047  0.0253995   5.154 2.55e-07 ***\n",
       "exper        0.1233476  0.0187590   6.575 4.85e-11 ***\n",
       "I(exper^2)  -0.0018871  0.0005999  -3.145  0.00166 ** \n",
       "age         -0.0528527  0.0084627  -6.245 4.23e-10 ***\n",
       "kidslt6     -0.8683285  0.1183820  -7.335 2.22e-13 ***\n",
       "kidsge6      0.0360050  0.0440316   0.818  0.41352    \n",
       "---\n",
       "Signif. codes:  0 '***' 0.001 '**' 0.01 '*' 0.05 '.' 0.1 ' ' 1\n",
       "\n",
       "(Dispersion parameter for binomial family taken to be 1)\n",
       "\n",
       "    Null deviance: 1029.7  on 752  degrees of freedom\n",
       "Residual deviance:  802.6  on 745  degrees of freedom\n",
       "AIC: 818.6\n",
       "\n",
       "Number of Fisher Scoring iterations: 6\n"
      ]
     },
     "metadata": {},
     "output_type": "display_data"
    }
   ],
   "source": [
    "# Importamos la base de datos\n",
    "data <- mroz\n",
    "\n",
    "modelo_probit <- glm(inlf ~ nwifeinc + educ + exper + I(exper^2) + age + kidslt6 + kidsge6,\n",
    "                     data = data, family = binomial(link = \"probit\"),\n",
    "                     control = list(epsilon = 1e-12))\n",
    "\n",
    "summary(modelo_probit)"
   ]
  },
  {
   "cell_type": "markdown",
   "id": "221807e7",
   "metadata": {
    "papermill": {
     "duration": 0.00542,
     "end_time": "2022-04-19T00:58:10.955058",
     "exception": false,
     "start_time": "2022-04-19T00:58:10.949638",
     "status": "completed"
    },
    "tags": []
   },
   "source": [
    "## Antes de probar nuestros algoritmos\n",
    "En las funciones que hemos creado insertamos la variable dependiente ($\\mathbf{Y}$) y las variables explicativas ($\\mathbf{X}$) en matrices ($N\\times 1$ y $N\\times K$, respectivamente).\n",
    "\n",
    "Adicionalmente, requerimos un valor inicial $\\beta_0$ para inicial los métodos de solución. "
   ]
  },
  {
   "cell_type": "code",
   "execution_count": 7,
   "id": "083e1861",
   "metadata": {
    "execution": {
     "iopub.execute_input": "2022-04-19T00:58:10.969208Z",
     "iopub.status.busy": "2022-04-19T00:58:10.967618Z",
     "iopub.status.idle": "2022-04-19T00:58:11.051956Z",
     "shell.execute_reply": "2022-04-19T00:58:11.050341Z"
    },
    "papermill": {
     "duration": 0.093618,
     "end_time": "2022-04-19T00:58:11.054096",
     "exception": false,
     "start_time": "2022-04-19T00:58:10.960478",
     "status": "completed"
    },
    "tags": []
   },
   "outputs": [
    {
     "data": {
      "text/html": [
       "<table class=\"dataframe\">\n",
       "<caption>A matrix: 6 × 1 of type int</caption>\n",
       "<thead>\n",
       "\t<tr><th></th><th scope=col>inlf</th></tr>\n",
       "</thead>\n",
       "<tbody>\n",
       "\t<tr><th scope=row>1</th><td>1</td></tr>\n",
       "\t<tr><th scope=row>2</th><td>1</td></tr>\n",
       "\t<tr><th scope=row>3</th><td>1</td></tr>\n",
       "\t<tr><th scope=row>4</th><td>1</td></tr>\n",
       "\t<tr><th scope=row>5</th><td>1</td></tr>\n",
       "\t<tr><th scope=row>6</th><td>1</td></tr>\n",
       "</tbody>\n",
       "</table>\n"
      ],
      "text/latex": [
       "A matrix: 6 × 1 of type int\n",
       "\\begin{tabular}{r|l}\n",
       "  & inlf\\\\\n",
       "\\hline\n",
       "\t1 & 1\\\\\n",
       "\t2 & 1\\\\\n",
       "\t3 & 1\\\\\n",
       "\t4 & 1\\\\\n",
       "\t5 & 1\\\\\n",
       "\t6 & 1\\\\\n",
       "\\end{tabular}\n"
      ],
      "text/markdown": [
       "\n",
       "A matrix: 6 × 1 of type int\n",
       "\n",
       "| <!--/--> | inlf |\n",
       "|---|---|\n",
       "| 1 | 1 |\n",
       "| 2 | 1 |\n",
       "| 3 | 1 |\n",
       "| 4 | 1 |\n",
       "| 5 | 1 |\n",
       "| 6 | 1 |\n",
       "\n"
      ],
      "text/plain": [
       "  inlf\n",
       "1 1   \n",
       "2 1   \n",
       "3 1   \n",
       "4 1   \n",
       "5 1   \n",
       "6 1   "
      ]
     },
     "metadata": {},
     "output_type": "display_data"
    },
    {
     "data": {
      "text/html": [
       "<table class=\"dataframe\">\n",
       "<caption>A matrix: 6 × 8 of type dbl</caption>\n",
       "<thead>\n",
       "\t<tr><th></th><th scope=col>nwifeinc</th><th scope=col>educ</th><th scope=col>exper</th><th scope=col>expersq</th><th scope=col>age</th><th scope=col>kidslt6</th><th scope=col>kidsge6</th><th scope=col>cons</th></tr>\n",
       "</thead>\n",
       "<tbody>\n",
       "\t<tr><th scope=row>1</th><td>10.910060</td><td>12</td><td>14</td><td> 196</td><td>32</td><td>1</td><td>0</td><td>1</td></tr>\n",
       "\t<tr><th scope=row>2</th><td>19.499981</td><td>12</td><td> 5</td><td>  25</td><td>30</td><td>0</td><td>2</td><td>1</td></tr>\n",
       "\t<tr><th scope=row>3</th><td>12.039910</td><td>12</td><td>15</td><td> 225</td><td>35</td><td>1</td><td>3</td><td>1</td></tr>\n",
       "\t<tr><th scope=row>4</th><td> 6.799996</td><td>12</td><td> 6</td><td>  36</td><td>34</td><td>0</td><td>3</td><td>1</td></tr>\n",
       "\t<tr><th scope=row>5</th><td>20.100058</td><td>14</td><td> 7</td><td>  49</td><td>31</td><td>1</td><td>2</td><td>1</td></tr>\n",
       "\t<tr><th scope=row>6</th><td> 9.859054</td><td>12</td><td>33</td><td>1089</td><td>54</td><td>0</td><td>0</td><td>1</td></tr>\n",
       "</tbody>\n",
       "</table>\n"
      ],
      "text/latex": [
       "A matrix: 6 × 8 of type dbl\n",
       "\\begin{tabular}{r|llllllll}\n",
       "  & nwifeinc & educ & exper & expersq & age & kidslt6 & kidsge6 & cons\\\\\n",
       "\\hline\n",
       "\t1 & 10.910060 & 12 & 14 &  196 & 32 & 1 & 0 & 1\\\\\n",
       "\t2 & 19.499981 & 12 &  5 &   25 & 30 & 0 & 2 & 1\\\\\n",
       "\t3 & 12.039910 & 12 & 15 &  225 & 35 & 1 & 3 & 1\\\\\n",
       "\t4 &  6.799996 & 12 &  6 &   36 & 34 & 0 & 3 & 1\\\\\n",
       "\t5 & 20.100058 & 14 &  7 &   49 & 31 & 1 & 2 & 1\\\\\n",
       "\t6 &  9.859054 & 12 & 33 & 1089 & 54 & 0 & 0 & 1\\\\\n",
       "\\end{tabular}\n"
      ],
      "text/markdown": [
       "\n",
       "A matrix: 6 × 8 of type dbl\n",
       "\n",
       "| <!--/--> | nwifeinc | educ | exper | expersq | age | kidslt6 | kidsge6 | cons |\n",
       "|---|---|---|---|---|---|---|---|---|\n",
       "| 1 | 10.910060 | 12 | 14 |  196 | 32 | 1 | 0 | 1 |\n",
       "| 2 | 19.499981 | 12 |  5 |   25 | 30 | 0 | 2 | 1 |\n",
       "| 3 | 12.039910 | 12 | 15 |  225 | 35 | 1 | 3 | 1 |\n",
       "| 4 |  6.799996 | 12 |  6 |   36 | 34 | 0 | 3 | 1 |\n",
       "| 5 | 20.100058 | 14 |  7 |   49 | 31 | 1 | 2 | 1 |\n",
       "| 6 |  9.859054 | 12 | 33 | 1089 | 54 | 0 | 0 | 1 |\n",
       "\n"
      ],
      "text/plain": [
       "  nwifeinc  educ exper expersq age kidslt6 kidsge6 cons\n",
       "1 10.910060 12   14     196    32  1       0       1   \n",
       "2 19.499981 12    5      25    30  0       2       1   \n",
       "3 12.039910 12   15     225    35  1       3       1   \n",
       "4  6.799996 12    6      36    34  0       3       1   \n",
       "5 20.100058 14    7      49    31  1       2       1   \n",
       "6  9.859054 12   33    1089    54  0       0       1   "
      ]
     },
     "metadata": {},
     "output_type": "display_data"
    }
   ],
   "source": [
    "# Nombre de la variable dependiente entre comillas\n",
    "variable_dependiente <- \"inlf\"\n",
    "\n",
    "# Nombres de las variables independientes entre comillas en un vector\n",
    "variables_independientes <- c(\"nwifeinc\", \"educ\", \"exper\", \"expersq\", \"age\", \"kidslt6\", \"kidsge6\")\n",
    "\n",
    "# Matriz Nx1 con variable dependiente\n",
    "Y <- data %>% select(all_of(variable_dependiente)) %>% as.matrix()\n",
    "head(Y)\n",
    "\n",
    "# Matriz NxK con variables explicativas. Se estandariza y se le agrega una constante\n",
    "X <- data %>% select(all_of(variables_independientes)) %>% \n",
    "   as.matrix() %>% cbind(\"cons\"=1)\n",
    "head(X)\n",
    "\n",
    "# Valor inicial. Todos los beta (beta0 hasta b7 con valor 0.0005)\n",
    "b0 <- rep(.0005, 8)"
   ]
  },
  {
   "cell_type": "markdown",
   "id": "449ad94e",
   "metadata": {
    "papermill": {
     "duration": 0.00634,
     "end_time": "2022-04-19T00:58:11.066329",
     "exception": false,
     "start_time": "2022-04-19T00:58:11.059989",
     "status": "completed"
    },
    "tags": []
   },
   "source": [
    "## Probando Newton Raphson"
   ]
  },
  {
   "cell_type": "code",
   "execution_count": 8,
   "id": "0364627e",
   "metadata": {
    "execution": {
     "iopub.execute_input": "2022-04-19T00:58:11.081205Z",
     "iopub.status.busy": "2022-04-19T00:58:11.079759Z",
     "iopub.status.idle": "2022-04-19T00:58:11.279489Z",
     "shell.execute_reply": "2022-04-19T00:58:11.276425Z"
    },
    "papermill": {
     "duration": 0.210865,
     "end_time": "2022-04-19T00:58:11.283112",
     "exception": false,
     "start_time": "2022-04-19T00:58:11.072247",
     "status": "completed"
    },
    "tags": []
   },
   "outputs": [
    {
     "name": "stdout",
     "output_type": "stream",
     "text": [
      "Iter: 0 , logLik: -499.349477100748 , Beta Diff: 0.217443176590716\n",
      "Iter: 1 , logLik: -405.243048268953 , Beta Diff: 0.0477988576696768\n",
      "Iter: 2 , logLik: -401.323901552511 , Beta Diff: 0.0043010497303283\n",
      "Iter: 3 , logLik: -401.302193977913 , Beta Diff: 3.36870958276281e-05\n",
      "Iter: 4 , logLik: -401.302193173895 , Beta Diff: 1.54869178592421e-09\n"
     ]
    },
    {
     "data": {
      "text/html": [
       "<table class=\"dataframe\">\n",
       "<caption>A data.frame: 8 × 2</caption>\n",
       "<thead>\n",
       "\t<tr><th></th><th scope=col>beta</th><th scope=col>error_estandar</th></tr>\n",
       "\t<tr><th></th><th scope=col>&lt;dbl&gt;</th><th scope=col>&lt;dbl&gt;</th></tr>\n",
       "</thead>\n",
       "<tbody>\n",
       "\t<tr><th scope=row>nwifeinc</th><td>-0.01202374</td><td>0.0048398383</td></tr>\n",
       "\t<tr><th scope=row>educ</th><td> 0.13090473</td><td>0.0252541957</td></tr>\n",
       "\t<tr><th scope=row>exper</th><td> 0.12334759</td><td>0.0187164015</td></tr>\n",
       "\t<tr><th scope=row>expersq</th><td>-0.00188708</td><td>0.0005999864</td></tr>\n",
       "\t<tr><th scope=row>age</th><td>-0.05285267</td><td>0.0084772396</td></tr>\n",
       "\t<tr><th scope=row>kidslt6</th><td>-0.86832851</td><td>0.1185223109</td></tr>\n",
       "\t<tr><th scope=row>kidsge6</th><td> 0.03600496</td><td>0.0434767876</td></tr>\n",
       "\t<tr><th scope=row>cons</th><td> 0.27007677</td><td>0.5085930353</td></tr>\n",
       "</tbody>\n",
       "</table>\n"
      ],
      "text/latex": [
       "A data.frame: 8 × 2\n",
       "\\begin{tabular}{r|ll}\n",
       "  & beta & error\\_estandar\\\\\n",
       "  & <dbl> & <dbl>\\\\\n",
       "\\hline\n",
       "\tnwifeinc & -0.01202374 & 0.0048398383\\\\\n",
       "\teduc &  0.13090473 & 0.0252541957\\\\\n",
       "\texper &  0.12334759 & 0.0187164015\\\\\n",
       "\texpersq & -0.00188708 & 0.0005999864\\\\\n",
       "\tage & -0.05285267 & 0.0084772396\\\\\n",
       "\tkidslt6 & -0.86832851 & 0.1185223109\\\\\n",
       "\tkidsge6 &  0.03600496 & 0.0434767876\\\\\n",
       "\tcons &  0.27007677 & 0.5085930353\\\\\n",
       "\\end{tabular}\n"
      ],
      "text/markdown": [
       "\n",
       "A data.frame: 8 × 2\n",
       "\n",
       "| <!--/--> | beta &lt;dbl&gt; | error_estandar &lt;dbl&gt; |\n",
       "|---|---|---|\n",
       "| nwifeinc | -0.01202374 | 0.0048398383 |\n",
       "| educ |  0.13090473 | 0.0252541957 |\n",
       "| exper |  0.12334759 | 0.0187164015 |\n",
       "| expersq | -0.00188708 | 0.0005999864 |\n",
       "| age | -0.05285267 | 0.0084772396 |\n",
       "| kidslt6 | -0.86832851 | 0.1185223109 |\n",
       "| kidsge6 |  0.03600496 | 0.0434767876 |\n",
       "| cons |  0.27007677 | 0.5085930353 |\n",
       "\n"
      ],
      "text/plain": [
       "         beta        error_estandar\n",
       "nwifeinc -0.01202374 0.0048398383  \n",
       "educ      0.13090473 0.0252541957  \n",
       "exper     0.12334759 0.0187164015  \n",
       "expersq  -0.00188708 0.0005999864  \n",
       "age      -0.05285267 0.0084772396  \n",
       "kidslt6  -0.86832851 0.1185223109  \n",
       "kidsge6   0.03600496 0.0434767876  \n",
       "cons      0.27007677 0.5085930353  "
      ]
     },
     "metadata": {},
     "output_type": "display_data"
    },
    {
     "name": "stderr",
     "output_type": "stream",
     "text": [
      "Comparación\n",
      "\n"
     ]
    },
    {
     "data": {
      "text/plain": [
       "\n",
       "Call:\n",
       "glm(formula = inlf ~ nwifeinc + educ + exper + I(exper^2) + age + \n",
       "    kidslt6 + kidsge6, family = binomial(link = \"probit\"), data = data, \n",
       "    control = list(epsilon = 1e-12))\n",
       "\n",
       "Deviance Residuals: \n",
       "    Min       1Q   Median       3Q      Max  \n",
       "-2.2156  -0.9151   0.4315   0.8653   2.4553  \n",
       "\n",
       "Coefficients:\n",
       "              Estimate Std. Error z value Pr(>|z|)    \n",
       "(Intercept)  0.2700768  0.5080923   0.532  0.59504    \n",
       "nwifeinc    -0.0120237  0.0049392  -2.434  0.01492 *  \n",
       "educ         0.1309047  0.0253995   5.154 2.55e-07 ***\n",
       "exper        0.1233476  0.0187590   6.575 4.85e-11 ***\n",
       "I(exper^2)  -0.0018871  0.0005999  -3.145  0.00166 ** \n",
       "age         -0.0528527  0.0084627  -6.245 4.23e-10 ***\n",
       "kidslt6     -0.8683285  0.1183820  -7.335 2.22e-13 ***\n",
       "kidsge6      0.0360050  0.0440316   0.818  0.41352    \n",
       "---\n",
       "Signif. codes:  0 '***' 0.001 '**' 0.01 '*' 0.05 '.' 0.1 ' ' 1\n",
       "\n",
       "(Dispersion parameter for binomial family taken to be 1)\n",
       "\n",
       "    Null deviance: 1029.7  on 752  degrees of freedom\n",
       "Residual deviance:  802.6  on 745  degrees of freedom\n",
       "AIC: 818.6\n",
       "\n",
       "Number of Fisher Scoring iterations: 6\n"
      ]
     },
     "metadata": {},
     "output_type": "display_data"
    }
   ],
   "source": [
    "# Estimacion probit Newton Raphson\n",
    "resultado_nr <- newton_raphson(probitFuncs, Y, X, b0)\n",
    "\n",
    "# Errores estandar de los coeficientes asociados a las variables explicativas\n",
    "varianzas <- diag(resultado_nr$varcov) # Obtenemos matriz de varianzas y covarianzas\n",
    "errores_estandar <- sqrt(varianzas) # Obtiene errores estandar como la raíz cuadrada de cada varianza\n",
    "\n",
    "# Coeficientes y errores estandar en una tabla\n",
    "data.frame(beta = resultado_nr$beta, error_estandar = errores_estandar)\n",
    "\n",
    "# Comparación libreria R\n",
    "message(\"Comparación\")\n",
    "summary(modelo_probit)"
   ]
  },
  {
   "cell_type": "markdown",
   "id": "f1ceddf0",
   "metadata": {
    "papermill": {
     "duration": 0.012578,
     "end_time": "2022-04-19T00:58:11.308483",
     "exception": false,
     "start_time": "2022-04-19T00:58:11.295905",
     "status": "completed"
    },
    "tags": []
   },
   "source": [
    "## Probando Gradient Descent"
   ]
  },
  {
   "cell_type": "code",
   "execution_count": 9,
   "id": "d8a824d9",
   "metadata": {
    "execution": {
     "iopub.execute_input": "2022-04-19T00:58:11.339880Z",
     "iopub.status.busy": "2022-04-19T00:58:11.337038Z",
     "iopub.status.idle": "2022-04-19T00:59:39.331919Z",
     "shell.execute_reply": "2022-04-19T00:59:39.328831Z"
    },
    "papermill": {
     "duration": 88.02522,
     "end_time": "2022-04-19T00:59:39.346459",
     "exception": false,
     "start_time": "2022-04-19T00:58:11.321239",
     "status": "completed"
    },
    "tags": []
   },
   "outputs": [
    {
     "name": "stdout",
     "output_type": "stream",
     "text": [
      "Iter: 250 , logLik: -401.302294079722 , Beta Diff: 4.8437573343163e-05\n",
      "Iter: 500 , logLik: -401.302193174762 , Beta Diff: 1.42004542458274e-07\n"
     ]
    },
    {
     "name": "stderr",
     "output_type": "stream",
     "text": [
      "Calculando errores estándar ...\n",
      "\n",
      "Terminado\n",
      "\n"
     ]
    }
   ],
   "source": [
    "# Estimacion probit Gradient Descent\n",
    "resultado_gd   <- gradient_descent(probitFuncs, Y, X, b0)\n",
    "\n",
    "# Estimacion errores estandar por bootstrap. Note que para todo esto no necesitamos la matriz Hessiana\n",
    "message(\"Calculando errores estándar ...\")\n",
    "boot_result_se <- bootstrap_coefs_se(probitFuncs, Y, X, b0)\n",
    "message(\"Terminado\")"
   ]
  },
  {
   "cell_type": "code",
   "execution_count": 10,
   "id": "fed7d195",
   "metadata": {
    "execution": {
     "iopub.execute_input": "2022-04-19T00:59:39.377084Z",
     "iopub.status.busy": "2022-04-19T00:59:39.374358Z",
     "iopub.status.idle": "2022-04-19T00:59:39.410205Z",
     "shell.execute_reply": "2022-04-19T00:59:39.408666Z"
    },
    "papermill": {
     "duration": 0.053219,
     "end_time": "2022-04-19T00:59:39.412252",
     "exception": false,
     "start_time": "2022-04-19T00:59:39.359033",
     "status": "completed"
    },
    "tags": []
   },
   "outputs": [
    {
     "data": {
      "text/html": [
       "<table class=\"dataframe\">\n",
       "<caption>A data.frame: 8 × 3</caption>\n",
       "<thead>\n",
       "\t<tr><th scope=col>Variable</th><th scope=col>original</th><th scope=col>bootSE</th></tr>\n",
       "\t<tr><th scope=col>&lt;chr&gt;</th><th scope=col>&lt;dbl&gt;</th><th scope=col>&lt;dbl&gt;</th></tr>\n",
       "</thead>\n",
       "<tbody>\n",
       "\t<tr><td>nwifeinc</td><td>-0.01202374</td><td>0.0047582056</td></tr>\n",
       "\t<tr><td>educ    </td><td> 0.13090473</td><td>0.0191909735</td></tr>\n",
       "\t<tr><td>exper   </td><td> 0.12334759</td><td>0.0210234561</td></tr>\n",
       "\t<tr><td>expersq </td><td>-0.00188708</td><td>0.0006035634</td></tr>\n",
       "\t<tr><td>age     </td><td>-0.05285267</td><td>0.0078138858</td></tr>\n",
       "\t<tr><td>kidslt6 </td><td>-0.86832851</td><td>0.1117828927</td></tr>\n",
       "\t<tr><td>kidsge6 </td><td> 0.03600496</td><td>0.0231652487</td></tr>\n",
       "\t<tr><td>cons    </td><td> 0.27007680</td><td>0.4628145322</td></tr>\n",
       "</tbody>\n",
       "</table>\n"
      ],
      "text/latex": [
       "A data.frame: 8 × 3\n",
       "\\begin{tabular}{lll}\n",
       " Variable & original & bootSE\\\\\n",
       " <chr> & <dbl> & <dbl>\\\\\n",
       "\\hline\n",
       "\t nwifeinc & -0.01202374 & 0.0047582056\\\\\n",
       "\t educ     &  0.13090473 & 0.0191909735\\\\\n",
       "\t exper    &  0.12334759 & 0.0210234561\\\\\n",
       "\t expersq  & -0.00188708 & 0.0006035634\\\\\n",
       "\t age      & -0.05285267 & 0.0078138858\\\\\n",
       "\t kidslt6  & -0.86832851 & 0.1117828927\\\\\n",
       "\t kidsge6  &  0.03600496 & 0.0231652487\\\\\n",
       "\t cons     &  0.27007680 & 0.4628145322\\\\\n",
       "\\end{tabular}\n"
      ],
      "text/markdown": [
       "\n",
       "A data.frame: 8 × 3\n",
       "\n",
       "| Variable &lt;chr&gt; | original &lt;dbl&gt; | bootSE &lt;dbl&gt; |\n",
       "|---|---|---|\n",
       "| nwifeinc | -0.01202374 | 0.0047582056 |\n",
       "| educ     |  0.13090473 | 0.0191909735 |\n",
       "| exper    |  0.12334759 | 0.0210234561 |\n",
       "| expersq  | -0.00188708 | 0.0006035634 |\n",
       "| age      | -0.05285267 | 0.0078138858 |\n",
       "| kidslt6  | -0.86832851 | 0.1117828927 |\n",
       "| kidsge6  |  0.03600496 | 0.0231652487 |\n",
       "| cons     |  0.27007680 | 0.4628145322 |\n",
       "\n"
      ],
      "text/plain": [
       "  Variable original    bootSE      \n",
       "1 nwifeinc -0.01202374 0.0047582056\n",
       "2 educ      0.13090473 0.0191909735\n",
       "3 exper     0.12334759 0.0210234561\n",
       "4 expersq  -0.00188708 0.0006035634\n",
       "5 age      -0.05285267 0.0078138858\n",
       "6 kidslt6  -0.86832851 0.1117828927\n",
       "7 kidsge6   0.03600496 0.0231652487\n",
       "8 cons      0.27007680 0.4628145322"
      ]
     },
     "metadata": {},
     "output_type": "display_data"
    }
   ],
   "source": [
    "boot_result_se"
   ]
  }
 ],
 "metadata": {
  "kernelspec": {
   "display_name": "R",
   "language": "R",
   "name": "ir"
  },
  "language_info": {
   "codemirror_mode": "r",
   "file_extension": ".r",
   "mimetype": "text/x-r-source",
   "name": "R",
   "pygments_lexer": "r",
   "version": "4.0.2"
  },
  "papermill": {
   "default_parameters": {},
   "duration": 316.905885,
   "end_time": "2022-04-19T00:59:40.733209",
   "environment_variables": {},
   "exception": null,
   "input_path": "__notebook__.ipynb",
   "output_path": "__notebook__.ipynb",
   "parameters": {},
   "start_time": "2022-04-19T00:54:23.827324",
   "version": "2.3.4"
  }
 },
 "nbformat": 4,
 "nbformat_minor": 5
}
